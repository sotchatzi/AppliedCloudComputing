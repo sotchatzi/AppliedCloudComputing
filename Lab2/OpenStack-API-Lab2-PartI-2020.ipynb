{
 "cells": [
  {
   "cell_type": "markdown",
   "metadata": {},
   "source": [
    "# Computer Lab 2, Part I"
   ]
  },
  {
   "cell_type": "markdown",
   "metadata": {},
   "source": [
    "This notebook consists of instructions, exercises and questions that form the practical part of Lab II, Part I. In this assignment, you will learn the basics of the OpenStack Python APIs that can be used to interact directly with the IaaS services Keystone (Identity), Glance (Image) and Nova (compute). Please prepare your solution and answers to questions directly in this notebook, and export it to PDF. Upload that PDF as to the student portal to complete Part I of the Lab.  "
   ]
  },
  {
   "cell_type": "markdown",
   "metadata": {},
   "source": [
    "## Task - 1"
   ]
  },
  {
   "cell_type": "code",
   "execution_count": 1,
   "metadata": {},
   "outputs": [],
   "source": [
    "from os import environ as env\n",
    "import keystoneclient.v3.client as ksclient"
   ]
  },
  {
   "cell_type": "markdown",
   "metadata": {},
   "source": [
    "To establish a client connection, we will need to pass a dictionary with information about the tenant, user, credentials and the API Identity endpoint. Here, I have sourced the \"openrc.sh file\" obtained from the Horizon dashboard in the underlying shell prior to starting the notebook. Hence, in order to actually run the code below, you would need to do the same with your own credentials. "
   ]
  },
  {
   "cell_type": "code",
   "execution_count": 2,
   "metadata": {},
   "outputs": [],
   "source": [
    "keystone = ksclient.Client(auth_url=env['OS_AUTH_URL'],\n",
    "                           username=env['OS_USERNAME'],\n",
    "                           password=env['OS_PASSWORD'],\n",
    "                           project_name=env['OS_PROJECT_NAME'],\n",
    "                           project_domain_name=env['OS_USER_DOMAIN_NAME'],\n",
    "                           project_id=env['OS_PROJECT_ID'],\n",
    "                           version=env['OS_IDENTITY_API_VERSION'],\n",
    "                           user_domain_name=env['OS_USER_DOMAIN_NAME'],\n",
    "                           region_name=env['OS_REGION_NAME'])"
   ]
  },
  {
   "cell_type": "markdown",
   "metadata": {},
   "source": [
    "# Next command will collect all the available endpoints in keystone."
   ]
  },
  {
   "cell_type": "code",
   "execution_count": 3,
   "metadata": {},
   "outputs": [],
   "source": [
    "endpoints = keystone.service_catalog.get_endpoints()"
   ]
  },
  {
   "cell_type": "markdown",
   "metadata": {
    "collapsed": true
   },
   "source": [
    "# Next section will print the services with associated infromation."
   ]
  },
  {
   "cell_type": "code",
   "execution_count": 4,
   "metadata": {},
   "outputs": [
    {
     "name": "stdout",
     "output_type": "stream",
     "text": [
      "service:  compute , region:  east-1 , public endpoint:  https://east-1.cloud.snic.se:8774/v2.1\n",
      "service:  compute , region:  east-1 , internal endpoint:  http://172.29.236.9:8774/v2.1\n",
      "service:  identity , region:  east-1 , internal endpoint:  http://172.29.236.9:5000\n",
      "service:  identity , region:  east-1 , public endpoint:  https://east-1.cloud.snic.se:5000\n",
      "service:  cloudformation , region:  east-1 , internal endpoint:  http://172.29.236.9:8000/v1\n",
      "service:  cloudformation , region:  east-1 , public endpoint:  https://east-1.cloud.snic.se:8000/v1\n",
      "service:  orchestration , region:  east-1 , internal endpoint:  http://172.29.236.9:8004/v1/fc1aade83c2e49baa7498b3918560d9f\n",
      "service:  orchestration , region:  east-1 , public endpoint:  https://east-1.cloud.snic.se:8004/v1/fc1aade83c2e49baa7498b3918560d9f\n",
      "service:  network , region:  east-1 , internal endpoint:  http://172.29.236.9:9696\n",
      "service:  network , region:  east-1 , public endpoint:  https://east-1.cloud.snic.se:9696\n",
      "service:  volumev3 , region:  east-1 , internal endpoint:  http://172.29.236.9:8776/v3/fc1aade83c2e49baa7498b3918560d9f\n",
      "service:  volumev3 , region:  east-1 , public endpoint:  https://east-1.cloud.snic.se:8776/v3/fc1aade83c2e49baa7498b3918560d9f\n",
      "service:  image , region:  east-1 , internal endpoint:  http://172.29.236.9:9292\n",
      "service:  image , region:  east-1 , public endpoint:  https://east-1.cloud.snic.se:9292\n",
      "service:  metric , region:  east-1 , public endpoint:  https://130.238.28.5:8041\n",
      "service:  metric , region:  east-1 , internal endpoint:  http://172.29.236.9:8041\n",
      "service:  placement , region:  east-1 , internal endpoint:  http://172.29.236.9:8780\n",
      "service:  placement , region:  east-1 , public endpoint:  https://east-1.cloud.snic.se:8780\n",
      "service:  volumev2 , region:  east-1 , public endpoint:  https://east-1.cloud.snic.se:8776/v2/fc1aade83c2e49baa7498b3918560d9f\n",
      "service:  volumev2 , region:  east-1 , internal endpoint:  http://172.29.236.9:8776/v2/fc1aade83c2e49baa7498b3918560d9f\n"
     ]
    }
   ],
   "source": [
    "for endpoint in endpoints:\n",
    "    for edp in endpoints[endpoint]:\n",
    "        if edp['interface'] == 'public':\n",
    "            print ('service: ', endpoint, ', region: ', edp['region'], ', public endpoint: ', edp['url'])\n",
    "        elif edp['interface'] == 'internal':\n",
    "            print ('service: ', endpoint, ', region: ', edp['region'], ', internal endpoint: ', edp['url'])"
   ]
  },
  {
   "cell_type": "markdown",
   "metadata": {},
   "source": [
    "## Questions:"
   ]
  },
  {
   "cell_type": "raw",
   "metadata": {},
   "source": [
    "1 - Explain the working of the code?\n",
    "2 - Why we need openrc file to run this code?\n",
    "3 - The code shows information about the \"public\" endpoints. Modify the code to show both the \"public\" and \"internal\" endpoints?\n",
    "4 - What is the difference between \"internal\" and \"public\" endpoints?"
   ]
  },
  {
   "cell_type": "markdown",
   "metadata": {},
   "source": [
    "# Answers"
   ]
  },
  {
   "cell_type": "markdown",
   "metadata": {},
   "source": [
    "1 - With the use of OpenStack Python API the code shows the public and internal (after the modification) endpoints with the correlated services and regions of each endpoint. The first step is to retrieve the data from the enviroment variables and to save it to the keystone variable. After that, endpoints variable stores the endpoints information. Finally with the use of python3 we retrieve information related to the interface of the endpoints.\n",
    "\n",
    "2 - We need our own openrc file in order to pass the neccesary environment variables to our code. If we have not used the command \"source openrc.sh\" to create and use the environment variables we could not communicate with the cloud through the VM and the API.\n",
    "\n",
    "3 - The code above modified in order to show the public and internal endpoints\n",
    "\n",
    "4 - The different interfaces of the endpoints are used to separate to who the endpoint is available for security reasons and for restrictions. For example, public endpoints can be used for users through the internet and internal endpoints can be used to the hosts that contain OpenStack services."
   ]
  },
  {
   "cell_type": "markdown",
   "metadata": {
    "collapsed": true
   },
   "source": [
    "## Task - 2"
   ]
  },
  {
   "cell_type": "markdown",
   "metadata": {
    "collapsed": true
   },
   "source": [
    "In this task you need to write a small python program using Keystone and Nova APIs to list all the available VMs in the project. \n",
    "\n",
    "Use the following links and the code available in Task-1. \n",
    "\n",
    "https://docs.openstack.org/python-novaclient/pike/ https://docs.openstack.org/python-novaclient/pike/reference/api/index.html\n",
    "\n",
    "Following are the functions required to accomplish the task: \n",
    "\n",
    "Load the required plugin:<br />\n",
    "loader = loading.get_plugin_loader(...)\n",
    "\n",
    "Create the auth object:<br />\n",
    "auth = loader.load_from_options(....) \n",
    "\n",
    "Create session object using \"auth\":<br />\n",
    "sess = session.Session( .... )\n",
    "\n",
    "Create Nova Client Object:<br />\n",
    "nova = client.Client( ... )\n",
    "\n",
    "Print the Vms:<br />\n",
    "nova.servers.list():"
   ]
  },
  {
   "cell_type": "code",
   "execution_count": 5,
   "metadata": {},
   "outputs": [
    {
     "data": {
      "text/plain": [
       "[<Server: docker_cloud>,\n",
       " <Server: vm_py_script_kev_cloud>,\n",
       " <Server: vm1>,\n",
       " <Server: s3>,\n",
       " <Server: wezh_lab2_scripted_instance>,\n",
       " <Server: sai_l2_task2>,\n",
       " <Server: ah_docker>,\n",
       " <Server: jovi3089_C2>,\n",
       " <Server: lisa_C2>,\n",
       " <Server: akshai_cmd_C1>,\n",
       " <Server: aham_docker>,\n",
       " <Server: vm1_alex>,\n",
       " <Server: girish2>,\n",
       " <Server: stack_with_init_script-my_instance1-twsbcyltyqdk>,\n",
       " <Server: stack_with_init_script-my_instance0-tbufgcn3sk6i>,\n",
       " <Server: akshai_C1>,\n",
       " <Server: girish1>,\n",
       " <Server: julie-vm2>,\n",
       " <Server: s1>,\n",
       " <Server: Sotiris_notebook>,\n",
       " <Server: vm1>,\n",
       " <Server: yudulab2>,\n",
       " <Server: Julie-Lab-2>,\n",
       " <Server: alex-lab2-test>,\n",
       " <Server: Henkeinst-WSL>,\n",
       " <Server: a_hameed>,\n",
       " <Server: maha_script>,\n",
       " <Server: c-2>,\n",
       " <Server: shqi>,\n",
       " <Server: RaheelInit>,\n",
       " <Server: test_lab3>,\n",
       " <Server: Aneysha-LAb2>,\n",
       " <Server: emgo2250_L2>,\n",
       " <Server: dapi_vm1>,\n",
       " <Server: test_cont_Ellinor_C2>,\n",
       " <Server: marcus_test>,\n",
       " <Server: c2_kevaja>,\n",
       " <Server: instance-kev>,\n",
       " <Server: Ego_C2>,\n",
       " <Server: Raheel_Docker>,\n",
       " <Server: com_w1>,\n",
       " <Server: com_m>,\n",
       " <Server: alex-lab2>,\n",
       " <Server: shreyas>,\n",
       " <Server: G5_W1>,\n",
       " <Server: G5_M>,\n",
       " <Server: Sotiris_C2>,\n",
       " <Server: Ellinor_c2_2>,\n",
       " <Server: sai_lab2>,\n",
       " <Server: Vera_C2>,\n",
       " <Server: dapi1>,\n",
       " <Server: JS>,\n",
       " <Server: Marcus_L_C2>,\n",
       " <Server: meritony>,\n",
       " <Server: wezh_lab2>,\n",
       " <Server: Stina_2>,\n",
       " <Server: Ellinor_c2>,\n",
       " <Server: dani_lab2_inst3>,\n",
       " <Server: max_soneback_docker>,\n",
       " <Server: vmTabeaDocker>,\n",
       " <Server: maha_c2>,\n",
       " <Server: li-ju>,\n",
       " <Server: saria_azam2>]"
      ]
     },
     "execution_count": 5,
     "metadata": {},
     "output_type": "execute_result"
    }
   ],
   "source": [
    "from keystoneauth1 import loading\n",
    "from keystoneauth1 import session\n",
    "from novaclient import client\n",
    "\n",
    "loader = loading.get_plugin_loader('password')\n",
    "\n",
    "auth = loader.load_from_options(auth_url=env['OS_AUTH_URL'],\n",
    "                                username=env['OS_USERNAME'],\n",
    "                                password=env['OS_PASSWORD'],\n",
    "                                project_name=env['OS_PROJECT_NAME'],\n",
    "                                project_domain_name=env['OS_USER_DOMAIN_NAME'],\n",
    "                                project_id=env['OS_PROJECT_ID'],\n",
    "                                user_domain_name=env['OS_USER_DOMAIN_NAME'])\n",
    "\n",
    "sess = session.Session(auth=auth)\n",
    "\n",
    "nova = client.Client('2.1', session=sess)\n",
    "\n",
    "nova.servers.list()"
   ]
  },
  {
   "cell_type": "markdown",
   "metadata": {},
   "source": [
    "## Task - 3:"
   ]
  },
  {
   "cell_type": "markdown",
   "metadata": {},
   "source": [
    "Try to measure the speed with which you can put and get files to and from volumes. Conduct your experiment several times to gather statistic and plot a) A estimated distribution of the time taken (in wall clock) to write and read a file of size 10MB in your volume and b) vary the size of the file from 10kB to 100MB and plot the read and write throughput (in MB/s) times as a function of file size (for the smaller data sizes, you might need to repeat the experiment many times and obtain a statistical average). Use \"Root\" disk as a reference point. Include the resulting graphs and a description of your experiment in the report."
   ]
  },
  {
   "cell_type": "code",
   "execution_count": 6,
   "metadata": {
    "scrolled": false
   },
   "outputs": [
    {
     "name": "stdout",
     "output_type": "stream",
     "text": [
      "Average time to write 10MB file = 0.00020137786865234375 seconds\n",
      "Average time to read 10MB file = 2.959728240966797e-05 seconds\n",
      "Populating the interactive namespace from numpy and matplotlib\n"
     ]
    },
    {
     "data": {
      "image/png": "[encoded data removed]",
      "text/plain": [
       "<Figure size 432x288 with 1 Axes>"
      ]
     },
     "metadata": {},
     "output_type": "display_data"
    },
    {
     "name": "stdout",
     "output_type": "stream",
     "text": [
      "Populating the interactive namespace from numpy and matplotlib\n"
     ]
    },
    {
     "data": {
      "text/plain": [
       "<matplotlib.legend.Legend at 0x7fb18a6536d8>"
      ]
     },
     "execution_count": 6,
     "metadata": {},
     "output_type": "execute_result"
    },
    {
     "data": {
      "image/png": "[encoded data removed]",
      "text/plain": [
       "<Figure size 432x288 with 1 Axes>"
      ]
     },
     "metadata": {},
     "output_type": "display_data"
    }
   ],
   "source": [
    "#Implement you solution here. Hint, the following command\n",
    "import os\n",
    "import time\n",
    "\n",
    "#define the number of iterations in order to repeat the same experinment many times and to calculate the average\n",
    "iterations_time = 100\n",
    "\n",
    "\n",
    "# Task a #\n",
    "\n",
    "\n",
    "filename = \"/home/ubuntu/volume/10MB\"\n",
    "        \n",
    "ta_write = [None] * iterations_time\n",
    "ta_read = [None] * iterations_time\n",
    "\n",
    "#write 10MB\n",
    "for i in range(iterations_time):\n",
    "    t0 = time.time()\n",
    "    fw = open(filename,\"wb\")\n",
    "    #create a file of 10MB\n",
    "    fw.seek(1024*1024*10-1)\n",
    "    fw.write(b\"\\0\")\n",
    "    fw.close()\n",
    "    ta_write[i] = time.time() - t0\n",
    "\n",
    "#calculate the average\n",
    "print(\"Average time to write 10MB file =\" , sum(ta_write)/iterations_time, \"seconds\")\n",
    "\n",
    "#read 10MB\n",
    "for i in range(iterations_time):\n",
    "    t0 = time.time()\n",
    "    #read the 10MB file\n",
    "    fr = open(filename,\"r\")\n",
    "    fr.close()\n",
    "    ta_read[i] = time.time() - t0\n",
    "\n",
    "#calculate the average\n",
    "print(\"Average time to read 10MB file =\" , sum(ta_read)/iterations_time, \"seconds\")\n",
    "\n",
    "#plot the time of each iteration for read and write\n",
    "%pylab inline\n",
    "plt.plot(ta_write,label='write')\n",
    "plt.plot(ta_read,label='read')\n",
    "plt.xlabel('iterations')\n",
    "plt.ylabel('time (s)')\n",
    "plt.title('part a')\n",
    "plt.legend(loc=\"upper right\")\n",
    "plt.show()\n",
    "\n",
    "\n",
    "#Task b \n",
    "\n",
    "\n",
    "filename2 = \"/home/ubuntu/volume/x_file\"\n",
    "\n",
    "#iterations = 10kB, 1MB, 2MB, 3MB, 4MB, ... 99MB, 100MB\n",
    "iterations_b = 101\n",
    "temp = [None] * iterations_time\n",
    "t_read = [None] * iterations_b\n",
    "t_write = [None] * iterations_b\n",
    "\n",
    "for i in range(iterations_b):\n",
    "    #write\n",
    "    if (i == 0):\n",
    "        for j in range(iterations_time):\n",
    "            t0 = time.time()\n",
    "            fw = open(filename2,\"wb\")\n",
    "            #begin with 10kB\n",
    "            fw.seek(1024*10)\n",
    "            fw.write(b\"\\0\")\n",
    "            fw.close()\n",
    "            temp[j] = time.time() - t0\n",
    "        #calculate the average to write for each file\n",
    "        t_write[i] = sum(temp)/iterations_time\n",
    "    else:\n",
    "        for j in range(iterations_time):\n",
    "            t0 = time.time()\n",
    "            fw = open(filename2,\"wb\")\n",
    "            #begin with 1MB till 100MB\n",
    "            fw.seek(1024*1024*i-1)\n",
    "            fw.write(b\"\\0\")\n",
    "            fw.close()\n",
    "            temp[j] = time.time() - t0\n",
    "        #calculate the average to write for each file\n",
    "        t_write[i] = sum(temp)/iterations_time\n",
    "        #print(i,\"time to write\",t_write[i])\n",
    "\n",
    "    #read\n",
    "    for j in range(iterations_time):\n",
    "        t0 = time.time()\n",
    "        #read the created file\n",
    "        fr = open(filename2,\"r\")\n",
    "        fr.close()\n",
    "        temp[j] = time.time() - t0\n",
    "    #calculate the average to read for each file\n",
    "    t_read[i] = sum(temp)/iterations_time\n",
    "    #print(i,\"time to read\",t_read[i])\n",
    "\n",
    "#plot the time of each file from 10kB to 100MB for read and write\n",
    "%pylab inline\n",
    "plt.plot(t_write,label='write')\n",
    "plt.plot(t_read,label='read')\n",
    "plt.xlabel('MB')\n",
    "plt.ylabel('time (s)')\n",
    "plt.title('part b')\n",
    "plt.legend(loc=\"upper right\")"
   ]
  },
  {
   "cell_type": "markdown",
   "metadata": {},
   "source": [
    "Don't foget to terminate resources after your experiments. "
   ]
  },
  {
   "cell_type": "code",
   "execution_count": 7,
   "metadata": {},
   "outputs": [],
   "source": [
    "# Clean up volumes"
   ]
  },
  {
   "cell_type": "code",
   "execution_count": null,
   "metadata": {},
   "outputs": [],
   "source": []
  }
 ],
 "metadata": {
  "kernelspec": {
   "display_name": "Python 3",
   "language": "python",
   "name": "python3"
  },
  "language_info": {
   "codemirror_mode": {
    "name": "ipython",
    "version": 3
   },
   "file_extension": ".py",
   "mimetype": "text/x-python",
   "name": "python",
   "nbconvert_exporter": "python",
   "pygments_lexer": "ipython3",
   "version": "3.6.9"
  }
 },
 "nbformat": 4,
 "nbformat_minor": 1
}
